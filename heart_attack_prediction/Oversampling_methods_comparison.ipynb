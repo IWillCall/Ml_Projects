{
 "cells": [
  {
   "cell_type": "code",
   "execution_count": 86,
   "id": "6ef010ad-4601-42c2-b04e-9d1046caa9d3",
   "metadata": {},
   "outputs": [],
   "source": [
    "import pandas as pd\n",
    "import numpy as np\n",
    "\n",
    "data = pd.DataFrame(pd.read_csv(\"heart_2022_no_nans.csv\"))"
   ]
  },
  {
   "cell_type": "markdown",
   "id": "1292dacd-fb8b-428d-b1b4-45e2ae78bd94",
   "metadata": {},
   "source": [
    "### Підготовка даних до початку порівняння методів балансування"
   ]
  },
  {
   "cell_type": "code",
   "execution_count": 87,
   "id": "96e39166-0d87-412a-b819-0271261b69a4",
   "metadata": {},
   "outputs": [
    {
     "data": {
      "text/html": [
       "<div>\n",
       "<style scoped>\n",
       "    .dataframe tbody tr th:only-of-type {\n",
       "        vertical-align: middle;\n",
       "    }\n",
       "\n",
       "    .dataframe tbody tr th {\n",
       "        vertical-align: top;\n",
       "    }\n",
       "\n",
       "    .dataframe thead th {\n",
       "        text-align: right;\n",
       "    }\n",
       "</style>\n",
       "<table border=\"1\" class=\"dataframe\">\n",
       "  <thead>\n",
       "    <tr style=\"text-align: right;\">\n",
       "      <th></th>\n",
       "      <th>Sex</th>\n",
       "      <th>GeneralHealth</th>\n",
       "      <th>PhysicalHealthDays</th>\n",
       "      <th>MentalHealthDays</th>\n",
       "      <th>LastCheckupTime</th>\n",
       "      <th>PhysicalActivities</th>\n",
       "      <th>SleepHours</th>\n",
       "      <th>RemovedTeeth</th>\n",
       "      <th>HadHeartAttack</th>\n",
       "      <th>HadAngina</th>\n",
       "      <th>...</th>\n",
       "      <th>HeightInMeters</th>\n",
       "      <th>WeightInKilograms</th>\n",
       "      <th>BMI</th>\n",
       "      <th>AlcoholDrinkers</th>\n",
       "      <th>HIVTesting</th>\n",
       "      <th>FluVaxLast12</th>\n",
       "      <th>PneumoVaxEver</th>\n",
       "      <th>TetanusLast10Tdap</th>\n",
       "      <th>HighRiskLastYear</th>\n",
       "      <th>CovidPos</th>\n",
       "    </tr>\n",
       "  </thead>\n",
       "  <tbody>\n",
       "    <tr>\n",
       "      <th>0</th>\n",
       "      <td>0</td>\n",
       "      <td>3</td>\n",
       "      <td>4.0</td>\n",
       "      <td>0.0</td>\n",
       "      <td>0</td>\n",
       "      <td>1</td>\n",
       "      <td>9.0</td>\n",
       "      <td>0</td>\n",
       "      <td>0</td>\n",
       "      <td>0</td>\n",
       "      <td>...</td>\n",
       "      <td>1.60</td>\n",
       "      <td>71.67</td>\n",
       "      <td>27.99</td>\n",
       "      <td>0</td>\n",
       "      <td>0</td>\n",
       "      <td>1</td>\n",
       "      <td>1</td>\n",
       "      <td>3</td>\n",
       "      <td>0</td>\n",
       "      <td>0</td>\n",
       "    </tr>\n",
       "    <tr>\n",
       "      <th>1</th>\n",
       "      <td>1</td>\n",
       "      <td>3</td>\n",
       "      <td>0.0</td>\n",
       "      <td>0.0</td>\n",
       "      <td>0</td>\n",
       "      <td>1</td>\n",
       "      <td>6.0</td>\n",
       "      <td>0</td>\n",
       "      <td>0</td>\n",
       "      <td>0</td>\n",
       "      <td>...</td>\n",
       "      <td>1.78</td>\n",
       "      <td>95.25</td>\n",
       "      <td>30.13</td>\n",
       "      <td>0</td>\n",
       "      <td>0</td>\n",
       "      <td>1</td>\n",
       "      <td>1</td>\n",
       "      <td>1</td>\n",
       "      <td>0</td>\n",
       "      <td>0</td>\n",
       "    </tr>\n",
       "    <tr>\n",
       "      <th>2</th>\n",
       "      <td>1</td>\n",
       "      <td>3</td>\n",
       "      <td>0.0</td>\n",
       "      <td>0.0</td>\n",
       "      <td>0</td>\n",
       "      <td>0</td>\n",
       "      <td>8.0</td>\n",
       "      <td>2</td>\n",
       "      <td>0</td>\n",
       "      <td>0</td>\n",
       "      <td>...</td>\n",
       "      <td>1.85</td>\n",
       "      <td>108.86</td>\n",
       "      <td>31.66</td>\n",
       "      <td>1</td>\n",
       "      <td>0</td>\n",
       "      <td>0</td>\n",
       "      <td>1</td>\n",
       "      <td>0</td>\n",
       "      <td>0</td>\n",
       "      <td>2</td>\n",
       "    </tr>\n",
       "    <tr>\n",
       "      <th>3</th>\n",
       "      <td>0</td>\n",
       "      <td>1</td>\n",
       "      <td>5.0</td>\n",
       "      <td>0.0</td>\n",
       "      <td>0</td>\n",
       "      <td>1</td>\n",
       "      <td>9.0</td>\n",
       "      <td>0</td>\n",
       "      <td>0</td>\n",
       "      <td>0</td>\n",
       "      <td>...</td>\n",
       "      <td>1.70</td>\n",
       "      <td>90.72</td>\n",
       "      <td>31.32</td>\n",
       "      <td>0</td>\n",
       "      <td>0</td>\n",
       "      <td>1</td>\n",
       "      <td>1</td>\n",
       "      <td>0</td>\n",
       "      <td>0</td>\n",
       "      <td>2</td>\n",
       "    </tr>\n",
       "    <tr>\n",
       "      <th>4</th>\n",
       "      <td>0</td>\n",
       "      <td>2</td>\n",
       "      <td>3.0</td>\n",
       "      <td>15.0</td>\n",
       "      <td>0</td>\n",
       "      <td>1</td>\n",
       "      <td>5.0</td>\n",
       "      <td>1</td>\n",
       "      <td>0</td>\n",
       "      <td>0</td>\n",
       "      <td>...</td>\n",
       "      <td>1.55</td>\n",
       "      <td>79.38</td>\n",
       "      <td>33.07</td>\n",
       "      <td>0</td>\n",
       "      <td>0</td>\n",
       "      <td>1</td>\n",
       "      <td>1</td>\n",
       "      <td>0</td>\n",
       "      <td>0</td>\n",
       "      <td>0</td>\n",
       "    </tr>\n",
       "  </tbody>\n",
       "</table>\n",
       "<p>5 rows × 38 columns</p>\n",
       "</div>"
      ],
      "text/plain": [
       "  Sex GeneralHealth  PhysicalHealthDays  MentalHealthDays LastCheckupTime  \\\n",
       "0   0             3                 4.0               0.0               0   \n",
       "1   1             3                 0.0               0.0               0   \n",
       "2   1             3                 0.0               0.0               0   \n",
       "3   0             1                 5.0               0.0               0   \n",
       "4   0             2                 3.0              15.0               0   \n",
       "\n",
       "  PhysicalActivities  SleepHours RemovedTeeth HadHeartAttack HadAngina  ...  \\\n",
       "0                  1         9.0            0              0         0  ...   \n",
       "1                  1         6.0            0              0         0  ...   \n",
       "2                  0         8.0            2              0         0  ...   \n",
       "3                  1         9.0            0              0         0  ...   \n",
       "4                  1         5.0            1              0         0  ...   \n",
       "\n",
       "  HeightInMeters WeightInKilograms    BMI AlcoholDrinkers HIVTesting  \\\n",
       "0           1.60             71.67  27.99               0          0   \n",
       "1           1.78             95.25  30.13               0          0   \n",
       "2           1.85            108.86  31.66               1          0   \n",
       "3           1.70             90.72  31.32               0          0   \n",
       "4           1.55             79.38  33.07               0          0   \n",
       "\n",
       "  FluVaxLast12 PneumoVaxEver TetanusLast10Tdap HighRiskLastYear CovidPos  \n",
       "0            1             1                 3                0        0  \n",
       "1            1             1                 1                0        0  \n",
       "2            0             1                 0                0        2  \n",
       "3            1             1                 0                0        2  \n",
       "4            1             1                 0                0        0  \n",
       "\n",
       "[5 rows x 38 columns]"
      ]
     },
     "execution_count": 87,
     "metadata": {},
     "output_type": "execute_result"
    }
   ],
   "source": [
    "data = data.drop(columns=[\"State\", \"RaceEthnicityCategory\"])\n",
    "data = data.replace(\"Female\", \"0\")\n",
    "data = data.replace(\"Male\", \"1\")\n",
    "data[\"AgeCategory\"] = data[\"AgeCategory\"].str[4:6]\n",
    "\n",
    "data[\"GeneralHealth\"] = data[\"GeneralHealth\"].replace({\"Poor\":\"0\", \"Fair\":\"1\", \"Good\":\"2\", \"Very good\":\"3\", \"Excellent\":\"4\"})\n",
    "data[\"LastCheckupTime\"] = data[\"LastCheckupTime\"].replace({\"Within past year (anytime less than 12 months ago)\":\"0\",\n",
    "                                                           \"Within past 2 years (1 year but less than 2 years ago)\": \"1\",\n",
    "                                                          \"Within past 5 years (2 years but less than 5 years ago)\": \"2\",\n",
    "                                                          \"5 or more years ago\": \"3\"})\n",
    "\n",
    "data[\"RemovedTeeth\"] = data[\"RemovedTeeth\"].replace({\"All\": \"3\", \n",
    "                                                     \"6 or more, but not all\": \"2\",\n",
    "                                                     \"1 to 5\": \"1\",\n",
    "                                                     \"None of them\": \"0\"\n",
    "                                                    })\n",
    "\n",
    "\n",
    "data[\"HadDiabetes\"] = data[\"HadDiabetes\"].replace({\"No\":\"0\",\n",
    "                                                  \"No, pre-diabetes or borderline diabetes\": \"1\",\n",
    "                                                  \"Yes, but only during pregnancy (female)\": \"2\",\n",
    "                                                  \"Yes\": \"3\"})\n",
    "\n",
    "data[\"SmokerStatus\"] = data[\"SmokerStatus\"].replace({\"Never smoked\": \"0\",\n",
    "                                                    \"Former smoker\": \"1\",\n",
    "                                                    \"Current smoker - now smokes some days\": \"2\",\n",
    "                                                    \"Current smoker - now smokes every day\": \"3\"})\n",
    "\n",
    "data[\"ECigaretteUsage\"] = data[\"ECigaretteUsage\"].replace({\"Never used e-cigarettes in my entire life\": \"0\",\n",
    "                                                          \"Not at all (right now)\": \"1\",\n",
    "                                                          \"Use them some days\": \"2\",\n",
    "                                                          \"Use them every day\":\"3\"})\n",
    "\n",
    "data[\"TetanusLast10Tdap\"] = data[\"TetanusLast10Tdap\"].replace({\"No, did not receive any tetanus shot in the past 10 years\": \"0\",\n",
    "                                                              \"Yes, received tetanus shot but not sure what type\": \"1\",\n",
    "                                                              \"Yes, received tetanus shot, but not Tdap\": \"2\",\n",
    "                                                              \"Yes, received Tdap\": \"3\"})\n",
    "data[\"CovidPos\"] = data[\"CovidPos\"].replace({\"No\":\"0\", \n",
    "                                             \"Tested positive using home test without a health professional\": \"1\",\n",
    "                                             \"Yes\": \"2\"})\n",
    "\n",
    "data = data.replace({\"No\":\"0\",\n",
    "                     \"Yes\": \"1\"})\n",
    "\n",
    "data.head()"
   ]
  },
  {
   "cell_type": "code",
   "execution_count": 88,
   "id": "7e2ced3a-77cb-4a35-b20a-6d6d93c2ace8",
   "metadata": {},
   "outputs": [],
   "source": [
    "from sklearn.model_selection import  cross_val_score\n",
    "from sklearn.metrics import accuracy_score, recall_score, precision_score, f1_score, roc_auc_score\n",
    "from sklearn.preprocessing import StandardScaler\n",
    "from sklearn.model_selection import train_test_split\n",
    "from sklearn.linear_model import LogisticRegression\n",
    "from sklearn import metrics\n",
    "from sklearn.preprocessing import LabelEncoder\n",
    "from sklearn.tree import DecisionTreeClassifier\n",
    "import matplotlib.pyplot as plt\n",
    "import seaborn as sns\n",
    "from sklearn.decomposition import PCA\n",
    "\n",
    "\n",
    "le = LabelEncoder()\n",
    "data1 = data.copy(deep = True)\n",
    "\n",
    "\n",
    "col = list(data.columns)\n",
    "categorical_features = []\n",
    "numerical_features = []\n",
    "for i in data1.columns:\n",
    "    if len(data[i].unique()) > 6:\n",
    "        numerical_features.append(i)\n",
    "    else:\n",
    "        data1[i] = le.fit_transform(data1[i])\n",
    "        categorical_features.append(i)"
   ]
  },
  {
   "cell_type": "code",
   "execution_count": 89,
   "id": "c864c43e-57ac-497d-8d62-2ccb07e743c5",
   "metadata": {},
   "outputs": [],
   "source": [
    "X = data1.drop(['HadHeartAttack'], axis=1)\n",
    "y = data1['HadHeartAttack']\n",
    "X_initial_train, X_initial_test, y_initial_train, y_initial_test = train_test_split(X, y, test_size=0.35, random_state=0)\n",
    "scaler = StandardScaler()"
   ]
  },
  {
   "cell_type": "markdown",
   "id": "ad882271-53b3-4378-a347-c15f504a9b32",
   "metadata": {},
   "source": [
    "Одразу розділяємо дані на набори для тренування та тестування. Балансування класів на всій множині даних призводить до витоку даних та перенавчанню моделі (особливо дерева рішень), також це завадить корректні оцінці моделі на початкових даних. Балансування класів буде відбуватись на тренувальному наборі, тестування моделей - на наборі для тестування."
   ]
  },
  {
   "cell_type": "markdown",
   "id": "a3c825bd-bba9-4ac2-afae-596aea648661",
   "metadata": {},
   "source": [
    "### Функція валідації моделі"
   ]
  },
  {
   "cell_type": "markdown",
   "id": "aa188151-6482-41b4-8538-705b8de88031",
   "metadata": {},
   "source": [
    "Модель випробовується на початкових даних. Працює як для моделі логістичної регресії, так і для моделі дерева рішень."
   ]
  },
  {
   "cell_type": "code",
   "execution_count": 90,
   "id": "1dd53477-f50a-41db-8b0e-13eb0a45cd7c",
   "metadata": {},
   "outputs": [],
   "source": [
    "all_logreg_logs = pd.DataFrame()\n",
    "all_dtree_logs = pd.DataFrame()\n",
    "\n",
    "def validate_model(model, model_scaler, balancing_method_name: str):        \n",
    "    global all_logreg_logs, all_dtree_logs, X_initial_test, y_initial_test\n",
    "    \n",
    "    X_initial_scaled = model_scaler.transform(X_initial_test)\n",
    "    \n",
    "    if isinstance(model, LogisticRegression):\n",
    "        weights = model.coef_[0]\n",
    "        intercept = model.intercept_[0]\n",
    "        \n",
    "        logits = np.dot(X_initial_scaled, weights) + intercept\n",
    "        probabilities = 1 / (1 + np.exp(-logits))\n",
    "        y_pred_initial = (probabilities >= 0.5).astype(int)\n",
    "    else:\n",
    "        probabilities = model.predict_proba(X_initial_scaled)[:, 1]\n",
    "        y_pred_initial = model.predict(X_initial_scaled)\n",
    "    \n",
    "    accuracy_initial = accuracy_score(y_initial_test, y_pred_initial)\n",
    "    precision_initial = precision_score(y_initial_test, y_pred_initial)\n",
    "    recall_initial = recall_score(y_initial_test, y_pred_initial)\n",
    "    f1_initial = f1_score(y_initial_test, y_pred_initial)\n",
    "    roc_auc_initial = roc_auc_score(y_initial_test, probabilities)\n",
    "    initial_validation_log = pd.DataFrame(data=[accuracy_initial,\n",
    "                                                precision_initial,\n",
    "                                                recall_initial,\n",
    "                                                f1_initial,\n",
    "                                                roc_auc_initial],\n",
    "                                          index=['Accuracy', 'Precision', 'Recall', 'F1-score', 'AUC'],\n",
    "                                          columns=[f\"{balancing_method_name}\"])\n",
    "    \n",
    "    if isinstance(model, LogisticRegression):\n",
    "        all_logreg_logs = pd.concat([all_logreg_logs, initial_validation_log], axis=1)\n",
    "        print(\"\\nLogistic Regression\")\n",
    "        print(all_logreg_logs.transpose())\n",
    "    else:\n",
    "        all_dtree_logs = pd.concat([all_dtree_logs, initial_validation_log], axis=1)\n",
    "        print(\"\\nDecision Tree\")\n",
    "        print(all_dtree_logs.transpose())"
   ]
  },
  {
   "cell_type": "markdown",
   "id": "a14e126a-e863-4ada-a298-1f96a85250d1",
   "metadata": {},
   "source": [
    "### Функції тренування моделей"
   ]
  },
  {
   "cell_type": "markdown",
   "id": "7edc0f34-51a5-4201-8275-739e20001f6c",
   "metadata": {},
   "source": [
    "Відбувається почергове тренування спочатку моделі логістичної регресії, а після й моделі дерева рішень. Після тренування кожної моделі виводиться лог точності моделі по **збалансованим даним**. Після ввідбувається валідація кожної моделі та заноситься у загальний лог по всім методам та моделям."
   ]
  },
  {
   "cell_type": "code",
   "execution_count": 91,
   "id": "5e472a4c-58a4-4cc5-bbea-c1a6e74a630a",
   "metadata": {},
   "outputs": [],
   "source": [
    "def train_models(X_balanced, y_balanced, balancing_method_name: str):\n",
    "    global scaler\n",
    "    X_train, X_test, y_train, y_test = train_test_split(X_balanced, y_balanced, test_size=0.35, random_state=0)\n",
    "    \n",
    "    X_train_scaled = scaler.fit_transform(X_train)\n",
    "    X_test_scaled = scaler.transform(X_test)\n",
    "        \n",
    "    logreg_model = train_regression_model(X_train_scaled, X_test_scaled, y_train, y_test)\n",
    "    \n",
    "    dtree_model = train_dtree_model(X_train_scaled, X_test_scaled, y_train, y_test)\n",
    "\n",
    "    print(\"\\n\\nComparison After Validation\")\n",
    "    validate_model(logreg_model, scaler, balancing_method_name)\n",
    "    validate_model(dtree_model, scaler, balancing_method_name)"
   ]
  },
  {
   "cell_type": "code",
   "execution_count": 92,
   "id": "9ea729aa-f30e-4d55-a0d5-98bec4133bc7",
   "metadata": {},
   "outputs": [],
   "source": [
    "def train_regression_model(X_train_balanced, X_test_balanced, y_train_balanced, y_test_balanced):\n",
    "    logreg = LogisticRegression(solver=\"liblinear\", penalty=\"l2\", C=0.00001, max_iter=10000)\n",
    "    logreg.fit(X_train_balanced, y_train_balanced)\n",
    "    y_pred_log = logreg.predict(X_test_balanced)\n",
    "    \n",
    "    y_pred_proba_log = logreg.predict_proba(X_test_balanced)\n",
    "    fpr_log, tpr_log, _ = metrics.roc_curve(y_test_balanced, y_pred_proba_log[:,1])\n",
    "    \n",
    "    log = pd.DataFrame(data=[accuracy_score(y_test_balanced, y_pred_log),\n",
    "                             precision_score(y_test_balanced, y_pred_log, average='binary'),\n",
    "                             recall_score(y_test_balanced, y_pred_log, average='binary'),\n",
    "                             f1_score(y_test_balanced, y_pred_log, average='binary'),\n",
    "                             roc_auc_score(y_test_balanced, y_pred_proba_log[:,1])],\n",
    "                       index=['Accuracy','Precision','Recall','F1-score','AUC'],\n",
    "                       columns=[\"Logistic Regression\"])\n",
    "    print(log)\n",
    "    return logreg"
   ]
  },
  {
   "cell_type": "code",
   "execution_count": 93,
   "id": "c691eca4-b6f0-40cb-aa6c-683556bd73dc",
   "metadata": {},
   "outputs": [],
   "source": [
    "def train_dtree_model(X_train_balanced, X_test_balanced, y_train_balanced, y_test_balanced):\n",
    "    dtree = DecisionTreeClassifier(random_state=0)\n",
    "    dtree.fit(X_train_balanced, y_train_balanced)\n",
    "    y_pred_tree = dtree.predict(X_test_balanced)\n",
    "    \n",
    "    y_pred_proba_tree = dtree.predict_proba(X_test_balanced)\n",
    "    fpr_tree, tpr_tree, _ = metrics.roc_curve(y_test_balanced, y_pred_proba_tree[:, 1])\n",
    "    \n",
    "    log = pd.DataFrame(data=[accuracy_score(y_test_balanced, y_pred_tree),\n",
    "                             precision_score(y_test_balanced, y_pred_tree, average='binary'),\n",
    "                             recall_score(y_test_balanced, y_pred_tree, average='binary'),\n",
    "                             f1_score(y_test_balanced, y_pred_tree, average='binary'),\n",
    "                             roc_auc_score(y_test_balanced, y_pred_proba_tree[:, 1])],\n",
    "                       index=['Accuracy', 'Precision', 'Recall', 'F1-score', 'AUC'],\n",
    "                       columns=[\"Decision Tree\"])\n",
    "    print(log)\n",
    "    return dtree"
   ]
  },
  {
   "cell_type": "code",
   "execution_count": 94,
   "id": "0269ecdd-70ba-4d30-b29a-bb0af29c8b3d",
   "metadata": {},
   "outputs": [],
   "source": [
    "# Показуємо розподіл після методу балансування\n",
    "def show_stats(y_balanced, balanced_method_name):\n",
    "    plt.figure(figsize=(10, 5))\n",
    "    ax = sns.countplot(x=y_balanced, hue=y_balanced, palette=\"Set2\")\n",
    "    for container in ax.containers:\n",
    "        ax.bar_label(container, label_type='center', rotation=0, color='white')\n",
    "    plt.title(f\"Розподіл після {balanced_method_name}\", size=16)\n",
    "    plt.show()"
   ]
  },
  {
   "cell_type": "markdown",
   "id": "6a78ee1d-a11b-41c5-a249-7f7451a3ee9c",
   "metadata": {},
   "source": [
    "### Without Sampling"
   ]
  },
  {
   "cell_type": "markdown",
   "id": "30afd826-b1ee-4ec4-97d5-f7fd51f0d8c7",
   "metadata": {},
   "source": [
    "Перевірка точності моделі без балансування класів. Так ми зможемо зрозуміти якщо модель після балансування класів буде менш точною."
   ]
  },
  {
   "cell_type": "code",
   "execution_count": 95,
   "id": "d25792b3-6d45-4763-bcd3-d11d2dc7cf21",
   "metadata": {},
   "outputs": [
    {
     "name": "stdout",
     "output_type": "stream",
     "text": [
      "           Logistic Regression\n",
      "Accuracy              0.941487\n",
      "Precision             0.460132\n",
      "Recall                0.385342\n",
      "F1-score              0.419429\n",
      "AUC                   0.880946\n",
      "           Decision Tree\n",
      "Accuracy        0.911756\n",
      "Precision       0.246542\n",
      "Recall          0.296091\n",
      "F1-score        0.269054\n",
      "AUC             0.621789\n",
      "\n",
      "\n",
      "Comparison After Validation\n",
      "\n",
      "Logistic Regression\n",
      "                  Accuracy  Precision    Recall  F1-score       AUC\n",
      "Without_Sampling  0.942793   0.470887  0.394294    0.4292  0.885052\n",
      "\n",
      "Decision Tree\n",
      "                  Accuracy  Precision   Recall  F1-score       AUC\n",
      "Without_Sampling  0.913121   0.248464  0.29274  0.268791  0.620827\n"
     ]
    }
   ],
   "source": [
    "train_models(X_initial_train, y_initial_train, \"Without_Sampling\")"
   ]
  },
  {
   "cell_type": "markdown",
   "id": "5c230998-bdfe-420e-8cc8-92016b7bdd92",
   "metadata": {},
   "source": [
    "## Oversampling"
   ]
  },
  {
   "cell_type": "markdown",
   "id": "939c7eda-456d-4f98-9f03-9f25d9e3a16d",
   "metadata": {},
   "source": [
    "Усього було випробовано 5 методів: Random Oversampling, SMOTE, ADASYN, K-means SMOTE, BorderLineSMOTE"
   ]
  },
  {
   "cell_type": "markdown",
   "id": "868f50e7-9eb9-4d13-9786-295945d50ef3",
   "metadata": {},
   "source": [
    "### Random Oversampling"
   ]
  },
  {
   "cell_type": "code",
   "execution_count": 96,
   "id": "1050bbc2-1247-4f47-8cfa-1115f1b957e5",
   "metadata": {},
   "outputs": [
    {
     "data": {
      "image/png": "[encoded data removed]",
      "text/plain": [
       "<Figure size 1000x500 with 1 Axes>"
      ]
     },
     "metadata": {},
     "output_type": "display_data"
    }
   ],
   "source": [
    "from imblearn.over_sampling import RandomOverSampler\n",
    "\n",
    "oversample = RandomOverSampler(sampling_strategy='minority')\n",
    "\n",
    "X_ROS, y_ROS = oversample.fit_resample(X_initial_train, y_initial_train)\n",
    "\n",
    "show_stats(y_ROS, \"Random Oversampling\")"
   ]
  },
  {
   "cell_type": "code",
   "execution_count": 97,
   "id": "2788a41a-f039-4039-af50-fa930a23a81b",
   "metadata": {},
   "outputs": [
    {
     "name": "stdout",
     "output_type": "stream",
     "text": [
      "           Logistic Regression\n",
      "Accuracy              0.791021\n",
      "Precision             0.800207\n",
      "Recall                0.775501\n",
      "F1-score              0.787660\n",
      "AUC                   0.873415\n",
      "           Decision Tree\n",
      "Accuracy        0.970697\n",
      "Precision       0.944617\n",
      "Recall          1.000000\n",
      "F1-score        0.971520\n",
      "AUC             0.970705\n",
      "\n",
      "\n",
      "Comparison After Validation\n",
      "\n",
      "Logistic Regression\n",
      "                     Accuracy  Precision    Recall  F1-score       AUC\n",
      "Without_Sampling     0.942793   0.470887  0.394294  0.429200  0.885052\n",
      "Random_Oversampling  0.805756   0.188352  0.773898  0.302967  0.873873\n",
      "\n",
      "Decision Tree\n",
      "                     Accuracy  Precision    Recall  F1-score       AUC\n",
      "Without_Sampling     0.913121   0.248464  0.292740  0.268791  0.620827\n",
      "Random_Oversampling  0.907163   0.235605  0.312753  0.268752  0.627105\n"
     ]
    }
   ],
   "source": [
    "train_models(X_ROS, y_ROS, \"Random_Oversampling\")"
   ]
  },
  {
   "cell_type": "markdown",
   "id": "98024c81-e84a-450c-b01e-69129846d343",
   "metadata": {},
   "source": [
    "### SMOTE"
   ]
  },
  {
   "cell_type": "code",
   "execution_count": 98,
   "id": "f325eaf4-57b1-4c4d-8bce-9df2e94df365",
   "metadata": {},
   "outputs": [
    {
     "data": {
      "image/png": "[encoded data removed]",
      "text/plain": [
       "<Figure size 1000x500 with 1 Axes>"
      ]
     },
     "metadata": {},
     "output_type": "display_data"
    }
   ],
   "source": [
    "from  imblearn.over_sampling import SMOTE\n",
    "from sklearn.neighbors import NearestNeighbors\n",
    "import threadpoolctl\n",
    "\n",
    "# Налаштування багатопоточності\n",
    "with threadpoolctl.threadpool_limits(limits=4, user_api='blas'):\n",
    "    smote = SMOTE(sampling_strategy='auto', random_state=0, k_neighbors=NearestNeighbors(n_jobs=-1))\n",
    "    X_smote, y_smote = smote.fit_resample(X_initial_train, y_initial_train)\n",
    "\n",
    "show_stats(y_smote, \"SMOTE\")"
   ]
  },
  {
   "cell_type": "code",
   "execution_count": 99,
   "id": "ec04dc77-8276-44db-ad5b-0a647aaefb47",
   "metadata": {},
   "outputs": [
    {
     "name": "stdout",
     "output_type": "stream",
     "text": [
      "           Logistic Regression\n",
      "Accuracy              0.827827\n",
      "Precision             0.819684\n",
      "Recall                0.840389\n",
      "F1-score              0.829907\n",
      "AUC                   0.906920\n",
      "           Decision Tree\n",
      "Accuracy        0.920670\n",
      "Precision       0.907741\n",
      "Recall          0.936454\n",
      "F1-score        0.921874\n",
      "AUC             0.920676\n",
      "\n",
      "\n",
      "Comparison After Validation\n",
      "\n",
      "Logistic Regression\n",
      "                     Accuracy  Precision    Recall  F1-score       AUC\n",
      "Without_Sampling     0.942793   0.470887  0.394294  0.429200  0.885052\n",
      "Random_Oversampling  0.805756   0.188352  0.773898  0.302967  0.873873\n",
      "SMOTE                0.804710   0.163193  0.625080  0.258815  0.802094\n",
      "\n",
      "Decision Tree\n",
      "                     Accuracy  Precision    Recall  F1-score       AUC\n",
      "Without_Sampling     0.913121   0.248464  0.292740  0.268791  0.620827\n",
      "Random_Oversampling  0.907163   0.235605  0.312753  0.268752  0.627105\n",
      "SMOTE                0.876156   0.184586  0.371727  0.246680  0.638493\n"
     ]
    }
   ],
   "source": [
    "train_models(X_smote, y_smote, \"SMOTE\")"
   ]
  },
  {
   "cell_type": "markdown",
   "id": "f75294ed-8689-412f-80de-302a14e6eef4",
   "metadata": {},
   "source": [
    "### ADASYN"
   ]
  },
  {
   "cell_type": "code",
   "execution_count": 100,
   "id": "860bdd9e-b2f8-4106-8cb3-7c4c33fae3be",
   "metadata": {},
   "outputs": [
    {
     "data": {
      "image/png": "[encoded data removed]",
      "text/plain": [
       "<Figure size 1000x500 with 1 Axes>"
      ]
     },
     "metadata": {},
     "output_type": "display_data"
    }
   ],
   "source": [
    "from  imblearn.over_sampling import ADASYN \n",
    "\n",
    "adasyn  = ADASYN(n_neighbors=NearestNeighbors(n_jobs=-1), random_state=0)\n",
    "X_adasyn, y_adasyn = adasyn.fit_resample(X_initial_train, y_initial_train)\n",
    "\n",
    "\n",
    "show_stats(y_adasyn, \"ADASYN\")"
   ]
  },
  {
   "cell_type": "code",
   "execution_count": 101,
   "id": "b2e66535-f29f-4b51-a4fd-7c7018912202",
   "metadata": {},
   "outputs": [
    {
     "name": "stdout",
     "output_type": "stream",
     "text": [
      "           Logistic Regression\n",
      "Accuracy              0.824842\n",
      "Precision             0.815093\n",
      "Recall                0.837050\n",
      "F1-score              0.825925\n",
      "AUC                   0.904108\n",
      "           Decision Tree\n",
      "Accuracy        0.920944\n",
      "Precision       0.905765\n",
      "Recall          0.938378\n",
      "F1-score        0.921783\n",
      "AUC             0.921068\n",
      "\n",
      "\n",
      "Comparison After Validation\n",
      "\n",
      "Logistic Regression\n",
      "                     Accuracy  Precision    Recall  F1-score       AUC\n",
      "Without_Sampling     0.942793   0.470887  0.394294  0.429200  0.885052\n",
      "Random_Oversampling  0.805756   0.188352  0.773898  0.302967  0.873873\n",
      "SMOTE                0.804710   0.163193  0.625080  0.258815  0.802094\n",
      "ADASYN               0.801319   0.159842  0.620822  0.254228  0.798286\n",
      "\n",
      "Decision Tree\n",
      "                     Accuracy  Precision    Recall  F1-score       AUC\n",
      "Without_Sampling     0.913121   0.248464  0.292740  0.268791  0.620827\n",
      "Random_Oversampling  0.907163   0.235605  0.312753  0.268752  0.627105\n",
      "SMOTE                0.876156   0.184586  0.371727  0.246680  0.638493\n",
      "ADASYN               0.874936   0.183156  0.373643  0.245816  0.638750\n"
     ]
    }
   ],
   "source": [
    "train_models(X_adasyn, y_adasyn, \"ADASYN\")"
   ]
  },
  {
   "cell_type": "markdown",
   "id": "40fe1828-f501-4172-81f5-f7e9e806c87f",
   "metadata": {},
   "source": [
    "### K-means SMOTE"
   ]
  },
  {
   "cell_type": "code",
   "execution_count": 102,
   "id": "3c293c4b-5057-4899-97bc-1732ea22e4a0",
   "metadata": {},
   "outputs": [
    {
     "data": {
      "image/png": "[encoded data removed]",
      "text/plain": [
       "<Figure size 1000x500 with 1 Axes>"
      ]
     },
     "metadata": {},
     "output_type": "display_data"
    }
   ],
   "source": [
    "from  imblearn.over_sampling import KMeansSMOTE\n",
    "\n",
    "KSMOTE  = KMeansSMOTE(cluster_balance_threshold=0.1)\n",
    "X_KSMOTE, y_KSMOTE = KSMOTE.fit_resample(X_initial_train, y_initial_train)\n",
    "\n",
    "\n",
    "show_stats(y_KSMOTE, \"K-means SMOTE\")"
   ]
  },
  {
   "cell_type": "code",
   "execution_count": 103,
   "id": "41504d44-9e0d-46ff-b48e-12d087ead52c",
   "metadata": {},
   "outputs": [
    {
     "name": "stdout",
     "output_type": "stream",
     "text": [
      "           Logistic Regression\n",
      "Accuracy              0.927247\n",
      "Precision             0.913210\n",
      "Recall                0.944168\n",
      "F1-score              0.928431\n",
      "AUC                   0.973048\n",
      "           Decision Tree\n",
      "Accuracy        0.951193\n",
      "Precision       0.944492\n",
      "Recall          0.958689\n",
      "F1-score        0.951537\n",
      "AUC             0.951195\n",
      "\n",
      "\n",
      "Comparison After Validation\n",
      "\n",
      "Logistic Regression\n",
      "                     Accuracy  Precision    Recall  F1-score       AUC\n",
      "Without_Sampling     0.942793   0.470887  0.394294  0.429200  0.885052\n",
      "Random_Oversampling  0.805756   0.188352  0.773898  0.302967  0.873873\n",
      "SMOTE                0.804710   0.163193  0.625080  0.258815  0.802094\n",
      "ADASYN               0.801319   0.159842  0.620822  0.254228  0.798286\n",
      "K-means SMOTE        0.880789   0.205895  0.414946  0.275224  0.812370\n",
      "\n",
      "Decision Tree\n",
      "                     Accuracy  Precision    Recall  F1-score       AUC\n",
      "Without_Sampling     0.913121   0.248464  0.292740  0.268791  0.620827\n",
      "Random_Oversampling  0.907163   0.235605  0.312753  0.268752  0.627105\n",
      "SMOTE                0.876156   0.184586  0.371727  0.246680  0.638493\n",
      "ADASYN               0.874936   0.183156  0.373643  0.245816  0.638750\n",
      "K-means SMOTE        0.908475   0.241726  0.317224  0.274376  0.629906\n"
     ]
    }
   ],
   "source": [
    "train_models(X_KSMOTE, y_KSMOTE, \"K-means SMOTE\")"
   ]
  },
  {
   "cell_type": "markdown",
   "id": "2defb45f-d4bf-4339-9400-a0e2dfb66fcf",
   "metadata": {},
   "source": [
    "### Border SMOTE"
   ]
  },
  {
   "cell_type": "code",
   "execution_count": 104,
   "id": "4d16cc77-bb2e-4d09-8987-8e59d2512da2",
   "metadata": {},
   "outputs": [
    {
     "data": {
      "image/png": "[encoded data removed]",
      "text/plain": [
       "<Figure size 1000x500 with 1 Axes>"
      ]
     },
     "metadata": {},
     "output_type": "display_data"
    }
   ],
   "source": [
    "from imblearn.over_sampling import BorderlineSMOTE\n",
    "\n",
    "\n",
    "borderline_smote = BorderlineSMOTE(sampling_strategy='auto', random_state=0)\n",
    "X_BSMOTE, y_BSMOTE = borderline_smote.fit_resample(X_initial_train, y_initial_train)\n",
    "\n",
    "show_stats(y_BSMOTE, \"BorderLine SMOTE\")"
   ]
  },
  {
   "cell_type": "code",
   "execution_count": 105,
   "id": "5024ed35-59b8-4d8b-b209-fe6b6d0edbeb",
   "metadata": {},
   "outputs": [
    {
     "name": "stdout",
     "output_type": "stream",
     "text": [
      "           Logistic Regression\n",
      "Accuracy              0.856110\n",
      "Precision             0.840752\n",
      "Recall                0.878505\n",
      "F1-score              0.859214\n",
      "AUC                   0.930372\n",
      "           Decision Tree\n",
      "Accuracy        0.928948\n",
      "Precision       0.915069\n",
      "Recall          0.945605\n",
      "F1-score        0.930086\n",
      "AUC             0.928955\n",
      "\n",
      "\n",
      "Comparison After Validation\n",
      "\n",
      "Logistic Regression\n",
      "                     Accuracy  Precision    Recall  F1-score       AUC\n",
      "Without_Sampling     0.942793   0.470887  0.394294  0.429200  0.885052\n",
      "Random_Oversampling  0.805756   0.188352  0.773898  0.302967  0.873873\n",
      "SMOTE                0.804710   0.163193  0.625080  0.258815  0.802094\n",
      "ADASYN               0.801319   0.159842  0.620822  0.254228  0.798286\n",
      "K-means SMOTE        0.880789   0.205895  0.414946  0.275224  0.812370\n",
      "BorderLine SMOTE     0.822444   0.178602  0.626570  0.277969  0.820358\n",
      "\n",
      "Decision Tree\n",
      "                     Accuracy  Precision    Recall  F1-score       AUC\n",
      "Without_Sampling     0.913121   0.248464  0.292740  0.268791  0.620827\n",
      "Random_Oversampling  0.907163   0.235605  0.312753  0.268752  0.627105\n",
      "SMOTE                0.876156   0.184586  0.371727  0.246680  0.638493\n",
      "ADASYN               0.874936   0.183156  0.373643  0.245816  0.638750\n",
      "K-means SMOTE        0.908475   0.241726  0.317224  0.274376  0.629906\n",
      "BorderLine SMOTE     0.882694   0.195034  0.367894  0.254924  0.640137\n"
     ]
    }
   ],
   "source": [
    "train_models(X_BSMOTE, y_BSMOTE, \"BorderLine SMOTE\")"
   ]
  },
  {
   "cell_type": "markdown",
   "id": "eff07a49-288f-4070-95ed-4caeddb5a2ee",
   "metadata": {},
   "source": [
    "### Висновок"
   ]
  },
  {
   "cell_type": "markdown",
   "id": "f9ff28d5-73a0-4daf-a558-1fc6f7b94ce2",
   "metadata": {},
   "source": [
    "З результатів порівняння моделей логістичної регресії та дерева рішень при різних методах балансування даних я можу зробити кілька висновків:\n",
    "1. Модель дерева рішень погано працює при усіх випробуваних методиках балансування. AUC близько 0.6 для усіх методів показує точність передбачення лиш трохи краще за випадкову. Також, з низького показника Precision (0.2-0.25) можна сказати, що дерево рішень дуже погано передбачає позитивні випадки (серцевий напад). Тобто у 8 з 10 випадках модель передбачить серцевий напад там, де його немає.\n",
    "2. Логістична регресія краще впоралась з передбаченням, але жоден метод балансування не зміг підвищити початковий AUC. Як і для дерева рішень, усі методи показали дуже низький показник Precision (0.15-0.2). Тобто 8 з 10 передбачень серцевого нападу будуть неккоректними. Хоча можна відмітити різке збільшення Recall для методу Random Oversampling, 77% реальних серцевих нападів було правильно передбачено, але робить він це за рахунок великої кількості неправдивих передбачень серцевих нападів (через що маємо низький Precision).\n",
    "3. Тестування практично усіх підходів балансування на збалансованих даних дає високу точність. Але, очевидно, це не є показником здібності моделі до узагальнення, так як тестування на початкових даних дає значно гірші результати.\n",
    "\n",
    "Думаю, неефективність oversampling підходу для балансування класів можна пояснити у даному випадку через велику кількість змінних та великий дизбаланс класів (20 до 1), через що дуже важко створити нові реалістичні записи.\n",
    "\n",
    "**В результаті жоден з oversampling методів балансування класів не запропонував збільшення точності моделі**."
   ]
  },
  {
   "cell_type": "markdown",
   "id": "2a39a5ad-fa7b-4ff8-9e02-1f202d8b6ce5",
   "metadata": {},
   "source": [
    "Витягнути таблицю результатів методів після валідації на початкових даних:"
   ]
  },
  {
   "cell_type": "code",
   "execution_count": 18,
   "id": "94fb3b0c-d3a8-46cc-bcf1-20d708b6eb60",
   "metadata": {},
   "outputs": [
    {
     "name": "stdout",
     "output_type": "stream",
     "text": [
      "Excel файл успішно створено!\n"
     ]
    }
   ],
   "source": [
    "with pd.ExcelWriter('oversampling_comparison.xlsx') as writer:\n",
    "    all_logreg_logs.transpose().to_excel(writer, sheet_name='LogisticRegression', index=False)\n",
    "    all_dtree_logs.transpose().to_excel(writer, sheet_name='DecisionTree', index=False)\n",
    "\n",
    "print(\"Excel файл успішно створено\")"
   ]
  }
 ],
 "metadata": {
  "kernelspec": {
   "display_name": "Python 3 (ipykernel)",
   "language": "python",
   "name": "python3"
  },
  "language_info": {
   "codemirror_mode": {
    "name": "ipython",
    "version": 3
   },
   "file_extension": ".py",
   "mimetype": "text/x-python",
   "name": "python",
   "nbconvert_exporter": "python",
   "pygments_lexer": "ipython3",
   "version": "3.10.14"
  }
 },
 "nbformat": 4,
 "nbformat_minor": 5
}
