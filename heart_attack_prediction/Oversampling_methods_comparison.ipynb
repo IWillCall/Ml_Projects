{
 "cells": [
  {
   "cell_type": "code",
   "execution_count": 57,
   "id": "6ef010ad-4601-42c2-b04e-9d1046caa9d3",
   "metadata": {},
   "outputs": [],
   "source": [
    "import pandas as pd\n",
    "import numpy as np\n",
    "\n",
    "data = pd.DataFrame(pd.read_csv(\"heart_2022_no_nans.csv\"))"
   ]
  },
  {
   "cell_type": "code",
   "execution_count": 58,
   "id": "96e39166-0d87-412a-b819-0271261b69a4",
   "metadata": {},
   "outputs": [
    {
     "data": {
      "text/html": [
       "<div>\n",
       "<style scoped>\n",
       "    .dataframe tbody tr th:only-of-type {\n",
       "        vertical-align: middle;\n",
       "    }\n",
       "\n",
       "    .dataframe tbody tr th {\n",
       "        vertical-align: top;\n",
       "    }\n",
       "\n",
       "    .dataframe thead th {\n",
       "        text-align: right;\n",
       "    }\n",
       "</style>\n",
       "<table border=\"1\" class=\"dataframe\">\n",
       "  <thead>\n",
       "    <tr style=\"text-align: right;\">\n",
       "      <th></th>\n",
       "      <th>Sex</th>\n",
       "      <th>GeneralHealth</th>\n",
       "      <th>PhysicalHealthDays</th>\n",
       "      <th>MentalHealthDays</th>\n",
       "      <th>LastCheckupTime</th>\n",
       "      <th>PhysicalActivities</th>\n",
       "      <th>SleepHours</th>\n",
       "      <th>RemovedTeeth</th>\n",
       "      <th>HadHeartAttack</th>\n",
       "      <th>HadAngina</th>\n",
       "      <th>...</th>\n",
       "      <th>HeightInMeters</th>\n",
       "      <th>WeightInKilograms</th>\n",
       "      <th>BMI</th>\n",
       "      <th>AlcoholDrinkers</th>\n",
       "      <th>HIVTesting</th>\n",
       "      <th>FluVaxLast12</th>\n",
       "      <th>PneumoVaxEver</th>\n",
       "      <th>TetanusLast10Tdap</th>\n",
       "      <th>HighRiskLastYear</th>\n",
       "      <th>CovidPos</th>\n",
       "    </tr>\n",
       "  </thead>\n",
       "  <tbody>\n",
       "    <tr>\n",
       "      <th>0</th>\n",
       "      <td>0</td>\n",
       "      <td>3</td>\n",
       "      <td>4.0</td>\n",
       "      <td>0.0</td>\n",
       "      <td>0</td>\n",
       "      <td>1</td>\n",
       "      <td>9.0</td>\n",
       "      <td>0</td>\n",
       "      <td>0</td>\n",
       "      <td>0</td>\n",
       "      <td>...</td>\n",
       "      <td>1.60</td>\n",
       "      <td>71.67</td>\n",
       "      <td>27.99</td>\n",
       "      <td>0</td>\n",
       "      <td>0</td>\n",
       "      <td>1</td>\n",
       "      <td>1</td>\n",
       "      <td>3</td>\n",
       "      <td>0</td>\n",
       "      <td>0</td>\n",
       "    </tr>\n",
       "    <tr>\n",
       "      <th>1</th>\n",
       "      <td>1</td>\n",
       "      <td>3</td>\n",
       "      <td>0.0</td>\n",
       "      <td>0.0</td>\n",
       "      <td>0</td>\n",
       "      <td>1</td>\n",
       "      <td>6.0</td>\n",
       "      <td>0</td>\n",
       "      <td>0</td>\n",
       "      <td>0</td>\n",
       "      <td>...</td>\n",
       "      <td>1.78</td>\n",
       "      <td>95.25</td>\n",
       "      <td>30.13</td>\n",
       "      <td>0</td>\n",
       "      <td>0</td>\n",
       "      <td>1</td>\n",
       "      <td>1</td>\n",
       "      <td>1</td>\n",
       "      <td>0</td>\n",
       "      <td>0</td>\n",
       "    </tr>\n",
       "    <tr>\n",
       "      <th>2</th>\n",
       "      <td>1</td>\n",
       "      <td>3</td>\n",
       "      <td>0.0</td>\n",
       "      <td>0.0</td>\n",
       "      <td>0</td>\n",
       "      <td>0</td>\n",
       "      <td>8.0</td>\n",
       "      <td>2</td>\n",
       "      <td>0</td>\n",
       "      <td>0</td>\n",
       "      <td>...</td>\n",
       "      <td>1.85</td>\n",
       "      <td>108.86</td>\n",
       "      <td>31.66</td>\n",
       "      <td>1</td>\n",
       "      <td>0</td>\n",
       "      <td>0</td>\n",
       "      <td>1</td>\n",
       "      <td>0</td>\n",
       "      <td>0</td>\n",
       "      <td>2</td>\n",
       "    </tr>\n",
       "    <tr>\n",
       "      <th>3</th>\n",
       "      <td>0</td>\n",
       "      <td>1</td>\n",
       "      <td>5.0</td>\n",
       "      <td>0.0</td>\n",
       "      <td>0</td>\n",
       "      <td>1</td>\n",
       "      <td>9.0</td>\n",
       "      <td>0</td>\n",
       "      <td>0</td>\n",
       "      <td>0</td>\n",
       "      <td>...</td>\n",
       "      <td>1.70</td>\n",
       "      <td>90.72</td>\n",
       "      <td>31.32</td>\n",
       "      <td>0</td>\n",
       "      <td>0</td>\n",
       "      <td>1</td>\n",
       "      <td>1</td>\n",
       "      <td>0</td>\n",
       "      <td>0</td>\n",
       "      <td>2</td>\n",
       "    </tr>\n",
       "    <tr>\n",
       "      <th>4</th>\n",
       "      <td>0</td>\n",
       "      <td>2</td>\n",
       "      <td>3.0</td>\n",
       "      <td>15.0</td>\n",
       "      <td>0</td>\n",
       "      <td>1</td>\n",
       "      <td>5.0</td>\n",
       "      <td>1</td>\n",
       "      <td>0</td>\n",
       "      <td>0</td>\n",
       "      <td>...</td>\n",
       "      <td>1.55</td>\n",
       "      <td>79.38</td>\n",
       "      <td>33.07</td>\n",
       "      <td>0</td>\n",
       "      <td>0</td>\n",
       "      <td>1</td>\n",
       "      <td>1</td>\n",
       "      <td>0</td>\n",
       "      <td>0</td>\n",
       "      <td>0</td>\n",
       "    </tr>\n",
       "  </tbody>\n",
       "</table>\n",
       "<p>5 rows × 38 columns</p>\n",
       "</div>"
      ],
      "text/plain": [
       "  Sex GeneralHealth  PhysicalHealthDays  MentalHealthDays LastCheckupTime  \\\n",
       "0   0             3                 4.0               0.0               0   \n",
       "1   1             3                 0.0               0.0               0   \n",
       "2   1             3                 0.0               0.0               0   \n",
       "3   0             1                 5.0               0.0               0   \n",
       "4   0             2                 3.0              15.0               0   \n",
       "\n",
       "  PhysicalActivities  SleepHours RemovedTeeth HadHeartAttack HadAngina  ...  \\\n",
       "0                  1         9.0            0              0         0  ...   \n",
       "1                  1         6.0            0              0         0  ...   \n",
       "2                  0         8.0            2              0         0  ...   \n",
       "3                  1         9.0            0              0         0  ...   \n",
       "4                  1         5.0            1              0         0  ...   \n",
       "\n",
       "  HeightInMeters WeightInKilograms    BMI AlcoholDrinkers HIVTesting  \\\n",
       "0           1.60             71.67  27.99               0          0   \n",
       "1           1.78             95.25  30.13               0          0   \n",
       "2           1.85            108.86  31.66               1          0   \n",
       "3           1.70             90.72  31.32               0          0   \n",
       "4           1.55             79.38  33.07               0          0   \n",
       "\n",
       "  FluVaxLast12 PneumoVaxEver TetanusLast10Tdap HighRiskLastYear CovidPos  \n",
       "0            1             1                 3                0        0  \n",
       "1            1             1                 1                0        0  \n",
       "2            0             1                 0                0        2  \n",
       "3            1             1                 0                0        2  \n",
       "4            1             1                 0                0        0  \n",
       "\n",
       "[5 rows x 38 columns]"
      ]
     },
     "execution_count": 58,
     "metadata": {},
     "output_type": "execute_result"
    }
   ],
   "source": [
    "data = data.drop(columns=[\"State\", \"RaceEthnicityCategory\"])\n",
    "data = data.replace(\"Female\", \"0\")\n",
    "data = data.replace(\"Male\", \"1\")\n",
    "data[\"AgeCategory\"] = data[\"AgeCategory\"].str[4:6]\n",
    "\n",
    "data[\"GeneralHealth\"] = data[\"GeneralHealth\"].replace({\"Poor\":\"0\", \"Fair\":\"1\", \"Good\":\"2\", \"Very good\":\"3\", \"Excellent\":\"4\"})\n",
    "data[\"LastCheckupTime\"] = data[\"LastCheckupTime\"].replace({\"Within past year (anytime less than 12 months ago)\":\"0\",\n",
    "                                                           \"Within past 2 years (1 year but less than 2 years ago)\": \"1\",\n",
    "                                                          \"Within past 5 years (2 years but less than 5 years ago)\": \"2\",\n",
    "                                                          \"5 or more years ago\": \"3\"})\n",
    "\n",
    "data[\"RemovedTeeth\"] = data[\"RemovedTeeth\"].replace({\"All\": \"3\", \n",
    "                                                     \"6 or more, but not all\": \"2\",\n",
    "                                                     \"1 to 5\": \"1\",\n",
    "                                                     \"None of them\": \"0\"\n",
    "                                                    })\n",
    "\n",
    "\n",
    "data[\"HadDiabetes\"] = data[\"HadDiabetes\"].replace({\"No\":\"0\",\n",
    "                                                  \"No, pre-diabetes or borderline diabetes\": \"1\",\n",
    "                                                  \"Yes, but only during pregnancy (female)\": \"2\",\n",
    "                                                  \"Yes\": \"3\"})\n",
    "\n",
    "data[\"SmokerStatus\"] = data[\"SmokerStatus\"].replace({\"Never smoked\": \"0\",\n",
    "                                                    \"Former smoker\": \"1\",\n",
    "                                                    \"Current smoker - now smokes some days\": \"2\",\n",
    "                                                    \"Current smoker - now smokes every day\": \"3\"})\n",
    "\n",
    "data[\"ECigaretteUsage\"] = data[\"ECigaretteUsage\"].replace({\"Never used e-cigarettes in my entire life\": \"0\",\n",
    "                                                          \"Not at all (right now)\": \"1\",\n",
    "                                                          \"Use them some days\": \"2\",\n",
    "                                                          \"Use them every day\":\"3\"})\n",
    "\n",
    "data[\"TetanusLast10Tdap\"] = data[\"TetanusLast10Tdap\"].replace({\"No, did not receive any tetanus shot in the past 10 years\": \"0\",\n",
    "                                                              \"Yes, received tetanus shot but not sure what type\": \"1\",\n",
    "                                                              \"Yes, received tetanus shot, but not Tdap\": \"2\",\n",
    "                                                              \"Yes, received Tdap\": \"3\"})\n",
    "data[\"CovidPos\"] = data[\"CovidPos\"].replace({\"No\":\"0\", \n",
    "                                             \"Tested positive using home test without a health professional\": \"1\",\n",
    "                                             \"Yes\": \"2\"})\n",
    "\n",
    "data = data.replace({\"No\":\"0\",\n",
    "                     \"Yes\": \"1\"})\n",
    "\n",
    "data.head()"
   ]
  },
  {
   "cell_type": "code",
   "execution_count": 59,
   "id": "7e2ced3a-77cb-4a35-b20a-6d6d93c2ace8",
   "metadata": {},
   "outputs": [],
   "source": [
    "from sklearn.model_selection import  cross_val_score\n",
    "from sklearn.metrics import accuracy_score, recall_score, precision_score, f1_score, roc_auc_score\n",
    "from sklearn.preprocessing import StandardScaler\n",
    "from sklearn.model_selection import train_test_split\n",
    "from sklearn.linear_model import LogisticRegression\n",
    "from sklearn import metrics\n",
    "from sklearn.preprocessing import LabelEncoder\n",
    "from sklearn.tree import DecisionTreeClassifier\n",
    "import matplotlib.pyplot as plt\n",
    "import seaborn as sns\n",
    "from sklearn.decomposition import PCA\n",
    "\n",
    "\n",
    "le = LabelEncoder()\n",
    "data1 = data.copy(deep = True)\n",
    "\n",
    "\n",
    "col = list(data.columns)\n",
    "categorical_features = []\n",
    "numerical_features = []\n",
    "for i in data1.columns:\n",
    "    if len(data[i].unique()) > 6:\n",
    "        numerical_features.append(i)\n",
    "    else:\n",
    "        data1[i] = le.fit_transform(data1[i])\n",
    "        categorical_features.append(i)"
   ]
  },
  {
   "cell_type": "code",
   "execution_count": 60,
   "id": "c864c43e-57ac-497d-8d62-2ccb07e743c5",
   "metadata": {},
   "outputs": [],
   "source": [
    "X = data1.drop(['HadHeartAttack'], axis=1)\n",
    "y = data1['HadHeartAttack']\n",
    "scaler = StandardScaler()"
   ]
  },
  {
   "cell_type": "markdown",
   "id": "a3c825bd-bba9-4ac2-afae-596aea648661",
   "metadata": {},
   "source": [
    "### Функція валідації моделі"
   ]
  },
  {
   "cell_type": "markdown",
   "id": "aa188151-6482-41b4-8538-705b8de88031",
   "metadata": {},
   "source": [
    "Модель випробовується на початкових даних, працює як для моделі логістичної регресії, так і для моделі дерева рішень."
   ]
  },
  {
   "cell_type": "code",
   "execution_count": 62,
   "id": "1dd53477-f50a-41db-8b0e-13eb0a45cd7c",
   "metadata": {},
   "outputs": [],
   "source": [
    "all_logreg_logs = pd.DataFrame()\n",
    "all_dtree_logs = pd.DataFrame()\n",
    "\n",
    "def validate_model(model, model_scaler, balancing_method_name: str):        \n",
    "    global all_logreg_logs, all_dtree_logs, X, y\n",
    "    \n",
    "    X_initial_scaled = model_scaler.transform(X)\n",
    "    \n",
    "    if isinstance(model, LogisticRegression):\n",
    "        weights = model.coef_[0]\n",
    "        intercept = model.intercept_[0]\n",
    "        \n",
    "        logits = np.dot(X_initial_scaled, weights) + intercept\n",
    "        probabilities = 1 / (1 + np.exp(-logits))\n",
    "        y_pred_initial = (probabilities >= 0.5).astype(int)\n",
    "    else:\n",
    "        probabilities = model.predict_proba(X_initial_scaled)[:, 1]\n",
    "        y_pred_initial = model.predict(X_initial_scaled)\n",
    "    \n",
    "    accuracy_initial = accuracy_score(y, y_pred_initial)\n",
    "    precision_initial = precision_score(y, y_pred_initial)\n",
    "    recall_initial = recall_score(y, y_pred_initial)\n",
    "    f1_initial = f1_score(y, y_pred_initial)\n",
    "    roc_auc_initial = roc_auc_score(y, probabilities)\n",
    "    initial_validation_log = pd.DataFrame(data=[accuracy_initial,\n",
    "                                                precision_initial,\n",
    "                                                recall_initial,\n",
    "                                                f1_initial,\n",
    "                                                roc_auc_initial],\n",
    "                                          index=['Accuracy', 'Precision', 'Recall', 'F1-score', 'AUC'],\n",
    "                                          columns=[f\"{balancing_method_name}\"])\n",
    "    \n",
    "    if isinstance(model, LogisticRegression):\n",
    "        all_logreg_logs = pd.concat([all_logreg_logs, initial_validation_log], axis=1)\n",
    "        print(\"\\nLogistic Regression\")\n",
    "        print(all_logreg_logs.transpose())\n",
    "    else:\n",
    "        all_dtree_logs = pd.concat([all_dtree_logs, initial_validation_log], axis=1)\n",
    "        print(\"\\nDecision Tree\")\n",
    "        print(all_dtree_logs.transpose())"
   ]
  },
  {
   "cell_type": "markdown",
   "id": "a14e126a-e863-4ada-a298-1f96a85250d1",
   "metadata": {},
   "source": [
    "### Функції тренування моделей"
   ]
  },
  {
   "cell_type": "markdown",
   "id": "7edc0f34-51a5-4201-8275-739e20001f6c",
   "metadata": {},
   "source": [
    "Відбувається почергове тренування спочатку моделі логістичної регресії, а після й моделі дерева рішень. Після тренування кожної моделі виводиться лог точності моделі по **збалансованим даним**. Після ввідбувається валідація кожної моделі та заноситься у загальний лог по всім методам та моделям."
   ]
  },
  {
   "cell_type": "code",
   "execution_count": 63,
   "id": "5e472a4c-58a4-4cc5-bbea-c1a6e74a630a",
   "metadata": {},
   "outputs": [],
   "source": [
    "def train_models(X_balanced, y_balanced, balancing_method_name: str):\n",
    "    global scaler\n",
    "    X_train, X_test, y_train, y_test = train_test_split(X_balanced, y_balanced, test_size=0.35, random_state=0)\n",
    "    \n",
    "    X_train_scaled = scaler.fit_transform(X_train)\n",
    "    X_test_scaled = scaler.transform(X_test)\n",
    "        \n",
    "    logreg_model = train_regression_model(X_train_scaled, X_test_scaled, y_train, y_test)\n",
    "    \n",
    "    dtree_model = train_dtree_model(X_train_scaled, X_test_scaled, y_train, y_test)\n",
    "\n",
    "    print(\"\\n\\nComparison After Validation\")\n",
    "    validate_model(logreg_model, scaler, balancing_method_name)\n",
    "    validate_model(dtree_model, scaler, balancing_method_name)"
   ]
  },
  {
   "cell_type": "code",
   "execution_count": 64,
   "id": "9ea729aa-f30e-4d55-a0d5-98bec4133bc7",
   "metadata": {},
   "outputs": [],
   "source": [
    "def train_regression_model(X_train_balanced, X_test_balanced, y_train_balanced, y_test_balanced):\n",
    "    logreg = LogisticRegression(solver=\"liblinear\", penalty=\"l2\", C=0.00001, max_iter=10000)\n",
    "    logreg.fit(X_train_balanced, y_train_balanced)\n",
    "    y_pred_log = logreg.predict(X_test_balanced)\n",
    "    \n",
    "    y_pred_proba_log = logreg.predict_proba(X_test_balanced)\n",
    "    fpr_log, tpr_log, _ = metrics.roc_curve(y_test_balanced, y_pred_proba_log[:,1])\n",
    "    \n",
    "    log = pd.DataFrame(data=[accuracy_score(y_test_balanced, y_pred_log),\n",
    "                             precision_score(y_test_balanced, y_pred_log, average='binary'),\n",
    "                             recall_score(y_test_balanced, y_pred_log, average='binary'),\n",
    "                             f1_score(y_test_balanced, y_pred_log, average='binary'),\n",
    "                             roc_auc_score(y_test_balanced, y_pred_proba_log[:,1])],\n",
    "                       index=['Accuracy','Precision','Recall','F1-score','AUC'],\n",
    "                       columns=[\"Logistic Regression\"])\n",
    "    print(log)\n",
    "    return logreg"
   ]
  },
  {
   "cell_type": "code",
   "execution_count": 65,
   "id": "c691eca4-b6f0-40cb-aa6c-683556bd73dc",
   "metadata": {},
   "outputs": [],
   "source": [
    "def train_dtree_model(X_train_balanced, X_test_balanced, y_train_balanced, y_test_balanced):\n",
    "    dtree = DecisionTreeClassifier(random_state=0)\n",
    "    dtree.fit(X_train_balanced, y_train_balanced)\n",
    "    y_pred_tree = dtree.predict(X_test_balanced)\n",
    "    \n",
    "    y_pred_proba_tree = dtree.predict_proba(X_test_balanced)\n",
    "    fpr_tree, tpr_tree, _ = metrics.roc_curve(y_test_balanced, y_pred_proba_tree[:, 1])\n",
    "    \n",
    "    log = pd.DataFrame(data=[accuracy_score(y_test_balanced, y_pred_tree),\n",
    "                             precision_score(y_test_balanced, y_pred_tree, average='binary'),\n",
    "                             recall_score(y_test_balanced, y_pred_tree, average='binary'),\n",
    "                             f1_score(y_test_balanced, y_pred_tree, average='binary'),\n",
    "                             roc_auc_score(y_test_balanced, y_pred_proba_tree[:, 1])],\n",
    "                       index=['Accuracy', 'Precision', 'Recall', 'F1-score', 'AUC'],\n",
    "                       columns=[\"Decision Tree\"])\n",
    "    print(log)\n",
    "    return dtree"
   ]
  },
  {
   "cell_type": "markdown",
   "id": "6a78ee1d-a11b-41c5-a249-7f7451a3ee9c",
   "metadata": {},
   "source": [
    "### Without Sampling"
   ]
  },
  {
   "cell_type": "markdown",
   "id": "30afd826-b1ee-4ec4-97d5-f7fd51f0d8c7",
   "metadata": {},
   "source": [
    "Перевірка точності моделі без балансування класів. Так ми зможемо зрозуміти яЯкщо модель після балансування класів буде менш точною."
   ]
  },
  {
   "cell_type": "code",
   "execution_count": 66,
   "id": "d25792b3-6d45-4763-bcd3-d11d2dc7cf21",
   "metadata": {},
   "outputs": [
    {
     "name": "stdout",
     "output_type": "stream",
     "text": [
      "           Logistic Regression\n",
      "Accuracy              0.945266\n",
      "Precision             0.497637\n",
      "Recall                0.358740\n",
      "F1-score              0.416924\n",
      "AUC                   0.886588\n",
      "           Decision Tree\n",
      "Accuracy        0.914352\n",
      "Precision       0.255478\n",
      "Recall          0.297850\n",
      "F1-score        0.275042\n",
      "AUC             0.623877\n",
      "\n",
      "\n",
      "Comparison After Validation\n",
      "\n",
      "Logistic Regression\n",
      "                  Accuracy  Precision    Recall  F1-score      AUC\n",
      "Without_Sampling  0.944692   0.491283  0.360774  0.416034  0.88379\n",
      "\n",
      "Decision Tree\n",
      "                  Accuracy  Precision    Recall  F1-score       AUC\n",
      "Without_Sampling  0.970019    0.71315  0.754447  0.733218  0.868494\n"
     ]
    }
   ],
   "source": [
    "train_models(X, y, \"Without_Sampling\")"
   ]
  },
  {
   "cell_type": "markdown",
   "id": "5c230998-bdfe-420e-8cc8-92016b7bdd92",
   "metadata": {},
   "source": [
    "## Oversampling"
   ]
  },
  {
   "cell_type": "markdown",
   "id": "939c7eda-456d-4f98-9f03-9f25d9e3a16d",
   "metadata": {},
   "source": [
    "Усього було перевірено 5 методів: Random Oversampling, SMOTE, ADASYN, K-means SMOTE, BorderLineSMOTE"
   ]
  },
  {
   "cell_type": "markdown",
   "id": "868f50e7-9eb9-4d13-9786-295945d50ef3",
   "metadata": {},
   "source": [
    "### Random Oversampling"
   ]
  },
  {
   "cell_type": "code",
   "execution_count": 10,
   "id": "1050bbc2-1247-4f47-8cfa-1115f1b957e5",
   "metadata": {},
   "outputs": [
    {
     "data": {
      "image/png": "[encoded data removed]",
      "text/plain": [
       "<Figure size 1000x500 with 1 Axes>"
      ]
     },
     "metadata": {},
     "output_type": "display_data"
    }
   ],
   "source": [
    "from imblearn.over_sampling import RandomOverSampler\n",
    "\n",
    "oversample = RandomOverSampler(sampling_strategy='minority')\n",
    "\n",
    "X_ROS, y_ROS = oversample.fit_resample(X, y)\n",
    "\n",
    "plt.figure(figsize=(10, 5))\n",
    "ax = sns.countplot(x=y_ROS, hue=y_ROS, legend=False, palette=\"Set2\")\n",
    "for container in ax.containers:\n",
    "    ax.bar_label(container, label_type='center', rotation=0, color='white')\n",
    "plt.title(\"Розподіл після Random Oversampling\", size=16)    \n",
    "plt.show()"
   ]
  },
  {
   "cell_type": "code",
   "execution_count": 11,
   "id": "2788a41a-f039-4039-af50-fa930a23a81b",
   "metadata": {},
   "outputs": [
    {
     "name": "stdout",
     "output_type": "stream",
     "text": [
      "           Logistic Regression\n",
      "Accuracy              0.792741\n",
      "Precision             0.803844\n",
      "Recall                0.772887\n",
      "F1-score              0.788062\n",
      "AUC                   0.876059\n",
      "           Decision Tree\n",
      "Accuracy        0.970825\n",
      "Precision       0.944717\n",
      "Recall          1.000000\n",
      "F1-score        0.971573\n",
      "AUC             0.970909\n",
      "\n",
      "\n",
      "Comparison After Validation\n",
      "\n",
      "Logistic Regression\n",
      "                     Accuracy  Precision    Recall  F1-score      AUC\n",
      "Without_Sampling     0.944692   0.491283  0.360774  0.416034  0.88379\n",
      "Random_Oversampling  0.810346   0.192689  0.775288  0.308663  0.87663\n",
      "\n",
      "Decision Tree\n",
      "                     Accuracy  Precision    Recall  F1-score       AUC\n",
      "Without_Sampling     0.970019   0.713150  0.754447  0.733218  0.868494\n",
      "Random_Oversampling  0.980693   0.738796  1.000000  0.849779  0.989789\n"
     ]
    }
   ],
   "source": [
    "train_models(X_ROS, y_ROS, \"Random_Oversampling\")"
   ]
  },
  {
   "cell_type": "markdown",
   "id": "98024c81-e84a-450c-b01e-69129846d343",
   "metadata": {},
   "source": [
    "### SMOTE"
   ]
  },
  {
   "cell_type": "code",
   "execution_count": 12,
   "id": "f325eaf4-57b1-4c4d-8bce-9df2e94df365",
   "metadata": {},
   "outputs": [
    {
     "data": {
      "image/png": "[encoded data removed]",
      "text/plain": [
       "<Figure size 1000x500 with 1 Axes>"
      ]
     },
     "metadata": {},
     "output_type": "display_data"
    }
   ],
   "source": [
    "from  imblearn.over_sampling import SMOTE\n",
    "from sklearn.neighbors import NearestNeighbors\n",
    "import threadpoolctl\n",
    "\n",
    "# Налаштування багатопоточності\n",
    "with threadpoolctl.threadpool_limits(limits=4, user_api='blas'):\n",
    "    smote = SMOTE(sampling_strategy='auto', random_state=0, k_neighbors=NearestNeighbors(n_jobs=-1))\n",
    "    X_smote, y_smote = smote.fit_resample(X, y)\n",
    "\n",
    "plt.figure(figsize=(10, 5))\n",
    "ax = sns.countplot(x=y_smote, hue=y_smote, palette=\"Set2\", legend=False)\n",
    "for container in ax.containers:\n",
    "    ax.bar_label(container, label_type='center', rotation=0, color='white')\n",
    "plt.title(\"Розподіл після SMOTE\", size=16)\n",
    "plt.show()"
   ]
  },
  {
   "cell_type": "code",
   "execution_count": 13,
   "id": "ec04dc77-8276-44db-ad5b-0a647aaefb47",
   "metadata": {},
   "outputs": [
    {
     "name": "stdout",
     "output_type": "stream",
     "text": [
      "           Logistic Regression\n",
      "Accuracy              0.828605\n",
      "Precision             0.821019\n",
      "Recall                0.839154\n",
      "F1-score              0.829988\n",
      "AUC                   0.907296\n",
      "           Decision Tree\n",
      "Accuracy        0.918531\n",
      "Precision       0.903358\n",
      "Recall          0.936812\n",
      "F1-score        0.919781\n",
      "AUC             0.918584\n",
      "\n",
      "\n",
      "Comparison After Validation\n",
      "\n",
      "Logistic Regression\n",
      "                     Accuracy  Precision    Recall  F1-score       AUC\n",
      "Without_Sampling     0.944692   0.491283  0.360774  0.416034  0.883790\n",
      "Random_Oversampling  0.810346   0.192689  0.775288  0.308663  0.876630\n",
      "SMOTE                0.807070   0.164755  0.622404  0.260543  0.802139\n",
      "\n",
      "Decision Tree\n",
      "                     Accuracy  Precision    Recall  F1-score       AUC\n",
      "Without_Sampling     0.970019   0.713150  0.754447  0.733218  0.868494\n",
      "Random_Oversampling  0.980693   0.738796  1.000000  0.849779  0.989789\n",
      "SMOTE                0.956488   0.571842  0.808709  0.669955  0.886866\n"
     ]
    }
   ],
   "source": [
    "train_models(X_smote, y_smote, \"SMOTE\")"
   ]
  },
  {
   "cell_type": "markdown",
   "id": "f75294ed-8689-412f-80de-302a14e6eef4",
   "metadata": {},
   "source": [
    "### ADASYN"
   ]
  },
  {
   "cell_type": "code",
   "execution_count": 14,
   "id": "860bdd9e-b2f8-4106-8cb3-7c4c33fae3be",
   "metadata": {},
   "outputs": [
    {
     "data": {
      "image/png": "[encoded data removed]",
      "text/plain": [
       "<Figure size 1000x600 with 1 Axes>"
      ]
     },
     "metadata": {},
     "output_type": "display_data"
    }
   ],
   "source": [
    "from  imblearn.over_sampling import ADASYN \n",
    "\n",
    "adasyn  = ADASYN(n_neighbors=NearestNeighbors(n_jobs=-1), random_state=0)\n",
    "X_adasyn, y_adasyn = adasyn.fit_resample(X, y)\n",
    "\n",
    "\n",
    "plt.figure(figsize = (10,6))\n",
    "ax=sns.countplot( x = y_adasyn, hue=y_adasyn, palette=\"Set2\", legend=False)\n",
    "for container in ax.containers:\n",
    "    ax.bar_label(container, label_type='center', rotation=0, color='white')\n",
    "plt.title(\"Розподіл після ADASYN\", size=14)\n",
    "plt.show()"
   ]
  },
  {
   "cell_type": "code",
   "execution_count": 15,
   "id": "b2e66535-f29f-4b51-a4fd-7c7018912202",
   "metadata": {},
   "outputs": [
    {
     "name": "stdout",
     "output_type": "stream",
     "text": [
      "           Logistic Regression\n",
      "Accuracy              0.827014\n",
      "Precision             0.820534\n",
      "Recall                0.840153\n",
      "F1-score              0.830228\n",
      "AUC                   0.905391\n",
      "           Decision Tree\n",
      "Accuracy        0.920310\n",
      "Precision       0.906769\n",
      "Recall          0.938172\n",
      "F1-score        0.922203\n",
      "AUC             0.920186\n",
      "\n",
      "\n",
      "Comparison After Validation\n",
      "\n",
      "Logistic Regression\n",
      "                     Accuracy  Precision    Recall  F1-score       AUC\n",
      "Without_Sampling     0.944692   0.491283  0.360774  0.416034  0.883790\n",
      "Random_Oversampling  0.810346   0.192689  0.775288  0.308663  0.876630\n",
      "SMOTE                0.807070   0.164755  0.622404  0.260543  0.802139\n",
      "ADASYN               0.802522   0.160848  0.620394  0.255463  0.796691\n",
      "\n",
      "Decision Tree\n",
      "                     Accuracy  Precision    Recall  F1-score       AUC\n",
      "Without_Sampling     0.970019   0.713150  0.754447  0.733218  0.868494\n",
      "Random_Oversampling  0.980693   0.738796  1.000000  0.849779  0.989789\n",
      "SMOTE                0.956488   0.571842  0.808709  0.669955  0.886866\n",
      "ADASYN               0.957081   0.576343  0.808039  0.672802  0.886864\n"
     ]
    }
   ],
   "source": [
    "train_models(X_adasyn, y_adasyn, \"ADASYN\")"
   ]
  },
  {
   "cell_type": "markdown",
   "id": "40fe1828-f501-4172-81f5-f7e9e806c87f",
   "metadata": {},
   "source": [
    "### K-means SMOTE"
   ]
  },
  {
   "cell_type": "code",
   "execution_count": 16,
   "id": "3c293c4b-5057-4899-97bc-1732ea22e4a0",
   "metadata": {},
   "outputs": [
    {
     "data": {
      "image/png": "[encoded data removed]",
      "text/plain": [
       "<Figure size 1000x600 with 1 Axes>"
      ]
     },
     "metadata": {},
     "output_type": "display_data"
    }
   ],
   "source": [
    "from  imblearn.over_sampling import KMeansSMOTE\n",
    "\n",
    "KSMOTE  = KMeansSMOTE(cluster_balance_threshold=0.1)\n",
    "X_KSMOTE, y_KSMOTE = KSMOTE.fit_resample(X, y)\n",
    "\n",
    "\n",
    "plt.figure(figsize = (10,6))\n",
    "ax=sns.countplot( x = y_KSMOTE, hue=y_KSMOTE, palette=\"Set2\", legend=False)\n",
    "for container in ax.containers:\n",
    "    ax.bar_label(container, label_type='center', rotation=0, color='white')\n",
    "plt.title(\"Розподіл після K_Means SMOTE \", size=14)\n",
    "plt.show()"
   ]
  },
  {
   "cell_type": "code",
   "execution_count": 17,
   "id": "41504d44-9e0d-46ff-b48e-12d087ead52c",
   "metadata": {},
   "outputs": [
    {
     "name": "stdout",
     "output_type": "stream",
     "text": [
      "           Logistic Regression\n",
      "Accuracy              0.927794\n",
      "Precision             0.914463\n",
      "Recall                0.943416\n",
      "F1-score              0.928714\n",
      "AUC                   0.972760\n",
      "           Decision Tree\n",
      "Accuracy        0.950176\n",
      "Precision       0.943756\n",
      "Recall          0.957103\n",
      "F1-score        0.950383\n",
      "AUC             0.950196\n",
      "\n",
      "\n",
      "Comparison After Validation\n",
      "\n",
      "Logistic Regression\n",
      "                     Accuracy  Precision    Recall  F1-score       AUC\n",
      "Without_Sampling     0.944692   0.491283  0.360774  0.416034  0.883790\n",
      "Random_Oversampling  0.810346   0.192689  0.775288  0.308663  0.876630\n",
      "SMOTE                0.807070   0.164755  0.622404  0.260543  0.802139\n",
      "ADASYN               0.802522   0.160848  0.620394  0.255463  0.796691\n",
      "K-means SMOTE        0.884055   0.206169  0.394045  0.270703  0.803609\n",
      "\n",
      "Decision Tree\n",
      "                     Accuracy  Precision    Recall  F1-score       AUC\n",
      "Without_Sampling     0.970019   0.713150  0.754447  0.733218  0.868494\n",
      "Random_Oversampling  0.980693   0.738796  1.000000  0.849779  0.989789\n",
      "SMOTE                0.956488   0.571842  0.808709  0.669955  0.886866\n",
      "ADASYN               0.957081   0.576343  0.808039  0.672802  0.886864\n",
      "K-means SMOTE        0.968170   0.688509  0.761742  0.723276  0.870918\n"
     ]
    }
   ],
   "source": [
    "train_models(X_KSMOTE, y_KSMOTE, \"K-means SMOTE\")"
   ]
  },
  {
   "cell_type": "markdown",
   "id": "2defb45f-d4bf-4339-9400-a0e2dfb66fcf",
   "metadata": {},
   "source": [
    "### Border SMOTE"
   ]
  },
  {
   "cell_type": "code",
   "execution_count": 20,
   "id": "4d16cc77-bb2e-4d09-8987-8e59d2512da2",
   "metadata": {},
   "outputs": [
    {
     "data": {
      "image/png": "[encoded data removed]",
      "text/plain": [
       "<Figure size 1000x600 with 1 Axes>"
      ]
     },
     "metadata": {},
     "output_type": "display_data"
    }
   ],
   "source": [
    "from imblearn.over_sampling import BorderlineSMOTE\n",
    "\n",
    "\n",
    "borderline_smote = BorderlineSMOTE(sampling_strategy='auto', random_state=0)\n",
    "X_BSMOTE, y_BSMOTE = borderline_smote.fit_resample(X, y)\n",
    "\n",
    "plt.figure(figsize=(10, 6))\n",
    "ax = sns.countplot(x=y_BSMOTE, hue=y_BSMOTE, palette=\"Set2\", legend=False)\n",
    "for container in ax.containers:\n",
    "    ax.bar_label(container, label_type='center', rotation=0, color='white')\n",
    "plt.title(\"Розподіл після BorderLine SMOTE \", size=14)\n",
    "plt.show()"
   ]
  },
  {
   "cell_type": "code",
   "execution_count": 21,
   "id": "5024ed35-59b8-4d8b-b209-fe6b6d0edbeb",
   "metadata": {},
   "outputs": [
    {
     "name": "stdout",
     "output_type": "stream",
     "text": [
      "           Logistic Regression\n",
      "Accuracy              0.856152\n",
      "Precision             0.841807\n",
      "Recall                0.876113\n",
      "F1-score              0.858618\n",
      "AUC                   0.930669\n",
      "           Decision Tree\n",
      "Accuracy        0.928752\n",
      "Precision       0.915751\n",
      "Recall          0.943933\n",
      "F1-score        0.929629\n",
      "AUC             0.928795\n",
      "\n",
      "\n",
      "Comparison After Validation\n",
      "\n",
      "Logistic Regression\n",
      "                     Accuracy  Precision    Recall  F1-score       AUC\n",
      "Without_Sampling     0.944692   0.491283  0.360774  0.416034  0.883790\n",
      "Random_Oversampling  0.810346   0.192689  0.775288  0.308663  0.876630\n",
      "SMOTE                0.807070   0.164755  0.622404  0.260543  0.802139\n",
      "ADASYN               0.802522   0.160848  0.620394  0.255463  0.796691\n",
      "K-means SMOTE        0.884055   0.206169  0.394045  0.270703  0.803609\n",
      "BorderLine SMOTE     0.824788   0.181771  0.630741  0.282213  0.821922\n",
      "\n",
      "Decision Tree\n",
      "                     Accuracy  Precision    Recall  F1-score       AUC\n",
      "Without_Sampling     0.970019   0.713150  0.754447  0.733218  0.868494\n",
      "Random_Oversampling  0.980693   0.738796  1.000000  0.849779  0.989789\n",
      "SMOTE                0.956488   0.571842  0.808709  0.669955  0.886866\n",
      "ADASYN               0.957081   0.576343  0.808039  0.672802  0.886864\n",
      "K-means SMOTE        0.968170   0.688509  0.761742  0.723276  0.870918\n",
      "BorderLine SMOTE     0.960585   0.604788  0.802903  0.689904  0.886298\n"
     ]
    }
   ],
   "source": [
    "train_models(X_BSMOTE, y_BSMOTE, \"BorderLine SMOTE\")"
   ]
  },
  {
   "cell_type": "markdown",
   "id": "eff07a49-288f-4070-95ed-4caeddb5a2ee",
   "metadata": {},
   "source": [
    "### Висновок"
   ]
  },
  {
   "cell_type": "markdown",
   "id": "f9ff28d5-73a0-4daf-a558-1fc6f7b94ce2",
   "metadata": {},
   "source": [
    "Можна бачити, що при тестуванні на збалансованих даних моделі **SMOTE, ADASYN, K-means SMOTE, BorderLineSMOTE** виправно показують високу точність. Але у таблиці результатів після валідації (тестуванні на початкових даних) можна бачити що кожен з цих методів балансування має точність нижчу, ніж модель без балансування. \n",
    "\n",
    "Лише у випадку з **Random Oversampling** можна побачити збільшення точності моделі на початкових даних, тобто лише цей метод дозволяє отримати гарно узагальнюючу модель. Причому лише для дерева рішень. Я припускаю що це пов'язано з тим, що це єдиний метод балансування, з використаних, що не створює синтетичних даних, а лише копіює існуючі. \n",
    "\n",
    "Тренувальний набір даних має близько 40 змінних та дизбаланс 9 до 1, через що такі методи як **SMOTE** чи **ADASY** можуть створювати нереалістичні записи."
   ]
  },
  {
   "cell_type": "markdown",
   "id": "2a39a5ad-fa7b-4ff8-9e02-1f202d8b6ce5",
   "metadata": {},
   "source": [
    "Витягнути таблицю результатів методів після валідації на початкових даних:"
   ]
  },
  {
   "cell_type": "code",
   "execution_count": 18,
   "id": "94fb3b0c-d3a8-46cc-bcf1-20d708b6eb60",
   "metadata": {},
   "outputs": [
    {
     "name": "stdout",
     "output_type": "stream",
     "text": [
      "Excel файл успішно створено!\n"
     ]
    }
   ],
   "source": [
    "with pd.ExcelWriter('output.xlsx') as writer:\n",
    "    all_logreg_logs.transpose().to_excel(writer, sheet_name='LogisticRegression', index=False)\n",
    "    all_dtree_logs.transpose().to_excel(writer, sheet_name='DecisionTree', index=False)\n",
    "\n",
    "print(\"Excel файл успішно створено\")"
   ]
  }
 ],
 "metadata": {
  "kernelspec": {
   "display_name": "Python 3 (ipykernel)",
   "language": "python",
   "name": "python3"
  },
  "language_info": {
   "codemirror_mode": {
    "name": "ipython",
    "version": 3
   },
   "file_extension": ".py",
   "mimetype": "text/x-python",
   "name": "python",
   "nbconvert_exporter": "python",
   "pygments_lexer": "ipython3",
   "version": "3.10.14"
  }
 },
 "nbformat": 4,
 "nbformat_minor": 5
}
